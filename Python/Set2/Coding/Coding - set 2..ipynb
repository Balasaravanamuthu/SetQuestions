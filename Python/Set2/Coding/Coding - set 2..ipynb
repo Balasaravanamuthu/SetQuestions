{
 "cells": [
  {
   "cell_type": "markdown",
   "id": "d138794a-3584-4376-ac0f-d0c72a649107",
   "metadata": {},
   "source": [
    "1.Write a Python program to find the reverse of a string. Expected Output (for input \"hello\"):\n",
    "olleh\n"
   ]
  },
  {
   "cell_type": "code",
   "execution_count": 1,
   "id": "659c7288-1d65-4c08-b1ef-7b964049af39",
   "metadata": {},
   "outputs": [
    {
     "name": "stdin",
     "output_type": "stream",
     "text": [
      "Enter Input String hello\n"
     ]
    },
    {
     "name": "stdout",
     "output_type": "stream",
     "text": [
      "olleh\n"
     ]
    }
   ],
   "source": [
    "strInput = input(\"Enter Input String\")\n",
    "strOutput = strInput[::-1]\n",
    "print(strOutput)"
   ]
  },
  {
   "cell_type": "markdown",
   "id": "b30101f3-2ebd-4eb2-868c-b8436445b9c1",
   "metadata": {},
   "source": [
    "2.Write a Python program to generate the Fibonacci sequence up to 10 terms.\n",
    "Expected Output:\n",
    "0 1 1 2 3 5 8 13 21 34\n",
    "\n"
   ]
  },
  {
   "cell_type": "code",
   "execution_count": 7,
   "id": "2e1393b8-a64f-4f83-85b2-9298f900c455",
   "metadata": {},
   "outputs": [
    {
     "name": "stdout",
     "output_type": "stream",
     "text": [
      "0 1 1 2 3 5 8 13 21 34 "
     ]
    }
   ],
   "source": [
    "a = 0\n",
    "b = 1\n",
    "for tempVar in range(10):\n",
    "    print(str(a), end=\" \")\n",
    "    a, b = b, a+b\n",
    "    "
   ]
  },
  {
   "cell_type": "markdown",
   "id": "09fbd724-b335-4874-8ee0-1cdcbb4da6bd",
   "metadata": {},
   "source": [
    "3.Write a Python function to check if a given string is a palindrome.\n",
    "Expected Output (for input \"madam\"):\n",
    "madam is a palindrome\n",
    "\n"
   ]
  },
  {
   "cell_type": "code",
   "execution_count": 13,
   "id": "8a8be766-2bf7-42b4-8076-73f4662107b0",
   "metadata": {},
   "outputs": [
    {
     "name": "stdin",
     "output_type": "stream",
     "text": [
      "Enter Input String madam\n"
     ]
    },
    {
     "name": "stdout",
     "output_type": "stream",
     "text": [
      "madam is a palindrome\n"
     ]
    }
   ],
   "source": [
    "def isPalindrome(strInput):\n",
    "    return strInput == strInput[::-1]\n",
    "\n",
    "inpStr = input(\"Enter Input String\")\n",
    "if isPalindrome(inpStr):\n",
    "    print(f\"{inpStr} is a palindrome\")\n",
    "else:\n",
    "    print(f\"{inpStr} is not a palindrome\")"
   ]
  },
  {
   "cell_type": "markdown",
   "id": "da02070c-ed0a-43f7-9e5b-23091be7066c",
   "metadata": {},
   "source": [
    "\n",
    "\n",
    "4.Write a Python program to count the number of vowels in a given string. \n",
    "Expected Output (for input \"education\"):\n",
    "\n",
    "Number of vowels: 5\n",
    "    \n",
    "\n",
    "\n",
    "\n",
    "\n"
   ]
  },
  {
   "cell_type": "code",
   "execution_count": 27,
   "id": "6b0a5347-a15f-417e-a7ad-bafa66ee9486",
   "metadata": {},
   "outputs": [
    {
     "name": "stdin",
     "output_type": "stream",
     "text": [
      "Enter input string education\n"
     ]
    },
    {
     "name": "stdout",
     "output_type": "stream",
     "text": [
      "5\n"
     ]
    }
   ],
   "source": [
    "inpStr = input(\"Enter input string\")\n",
    "vowelcount = 0\n",
    "for char in inpStr:\n",
    "    if char in 'aeiouAEIOU':\n",
    "        vowelcount+=1\n",
    "\n",
    "print(vowelcount)"
   ]
  },
  {
   "cell_type": "markdown",
   "id": "458da36a-5bfc-44db-80f2-c48f5df28163",
   "metadata": {},
   "source": [
    "5.Write a Python program to remove duplicates from a list.\n",
    "Expected Output (for input [1, 2, 2, 3, 4, 4, 5]):\n",
    "\n",
    " [1, 2, 3, 4, 5]\n",
    "\n",
    "\n"
   ]
  },
  {
   "cell_type": "code",
   "execution_count": 55,
   "id": "a51aece8-2477-4b31-8321-f270069d3604",
   "metadata": {},
   "outputs": [
    {
     "name": "stdin",
     "output_type": "stream",
     "text": [
      "Enter the numerical value separated by commas 1,2,2,3,4,4,5\n"
     ]
    },
    {
     "name": "stdout",
     "output_type": "stream",
     "text": [
      "[1, 2, 3, 4, 5]\n"
     ]
    }
   ],
   "source": [
    "strInput = input(\"Enter the numerical value separated by commas\")\n",
    "inpList = list(strInput.split(\",\"))\n",
    "intList = []\n",
    "outList = []\n",
    "for tempVar in inpList:\n",
    "    intList.append(int(tempVar.strip()))\n",
    "outList = list(set(intList))\n",
    "print(outList)"
   ]
  },
  {
   "cell_type": "code",
   "execution_count": null,
   "id": "7b6abf0a-a777-4524-aca9-874daeba3c00",
   "metadata": {},
   "outputs": [],
   "source": []
  }
 ],
 "metadata": {
  "kernelspec": {
   "display_name": "Python 3 (ipykernel)",
   "language": "python",
   "name": "python3"
  },
  "language_info": {
   "codemirror_mode": {
    "name": "ipython",
    "version": 3
   },
   "file_extension": ".py",
   "mimetype": "text/x-python",
   "name": "python",
   "nbconvert_exporter": "python",
   "pygments_lexer": "ipython3",
   "version": "3.12.4"
  }
 },
 "nbformat": 4,
 "nbformat_minor": 5
}
