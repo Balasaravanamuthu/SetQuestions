{
 "cells": [
  {
   "cell_type": "code",
   "execution_count": 5,
   "id": "7b6f1c70-48a5-4391-a32e-e8e8001b4efb",
   "metadata": {},
   "outputs": [
    {
     "name": "stdout",
     "output_type": "stream",
     "text": [
      "4.0\n"
     ]
    }
   ],
   "source": [
    "import math\n",
    "print(math.sqrt(16))"
   ]
  },
  {
   "cell_type": "code",
   "execution_count": 19,
   "id": "45cb9fdb-0cf3-4002-a9c8-9069043020bd",
   "metadata": {},
   "outputs": [
    {
     "name": "stdout",
     "output_type": "stream",
     "text": [
      "[2, 3, 5, 8]\n"
     ]
    }
   ],
   "source": [
    "numbers = [5, 3, 8, 2]\n",
    "numbers.sort()\n",
    "print(numbers)"
   ]
  },
  {
   "cell_type": "code",
   "execution_count": 17,
   "id": "978e7f1d-88fb-46b0-8f99-a2bcef4eb514",
   "metadata": {},
   "outputs": [
    {
     "name": "stdout",
     "output_type": "stream",
     "text": [
      "None\n"
     ]
    }
   ],
   "source": [
    "numbers = [5, 3, 8, 2]\n",
    "print(numbers.sort())"
   ]
  },
  {
   "cell_type": "code",
   "execution_count": 27,
   "id": "e2fd96f2-211f-45b2-b1dc-573c6d7ccbb8",
   "metadata": {},
   "outputs": [
    {
     "name": "stdout",
     "output_type": "stream",
     "text": [
      "My name is Alice and I am 25 years old\n"
     ]
    }
   ],
   "source": [
    "name = \"Alice\"\n",
    "age = 25\n",
    "print(\"My name is %s and I am %d years old\" % (name, age))"
   ]
  },
  {
   "cell_type": "code",
   "execution_count": 31,
   "id": "b587a30a-b4c5-40ff-8d17-066dc27faa53",
   "metadata": {},
   "outputs": [
    {
     "name": "stdout",
     "output_type": "stream",
     "text": [
      "Lists are equal\n"
     ]
    }
   ],
   "source": [
    "a = [1, 2, 3]\n",
    "b = [1, 2, 3]\n",
    "if a == b:\n",
    "    print(\"Lists are equal\")"
   ]
  },
  {
   "cell_type": "code",
   "execution_count": 35,
   "id": "54d6ff7a-2ce6-4140-938e-45aa362d432d",
   "metadata": {},
   "outputs": [
    {
     "name": "stdout",
     "output_type": "stream",
     "text": [
      "5\n",
      "4\n",
      "3\n",
      "2\n"
     ]
    }
   ],
   "source": [
    "for i in range(5, 1, -1):\n",
    "    print(i)"
   ]
  },
  {
   "cell_type": "code",
   "execution_count": 39,
   "id": "753b47f0-42a0-43c9-97e1-821c46572d3d",
   "metadata": {},
   "outputs": [
    {
     "name": "stdout",
     "output_type": "stream",
     "text": [
      "John\n"
     ]
    }
   ],
   "source": [
    "student = {\"name\": \"John\", \"age\": 20}\n",
    "print(student[\"name\"])"
   ]
  },
  {
   "cell_type": "code",
   "execution_count": 49,
   "id": "323e182c-b6ad-4a04-846a-764111a5f330",
   "metadata": {},
   "outputs": [
    {
     "name": "stdin",
     "output_type": "stream",
     "text": [
      "Enter numerical passcode 333333\n"
     ]
    },
    {
     "name": "stdout",
     "output_type": "stream",
     "text": [
      "18\n",
      "Passcode is match\n"
     ]
    }
   ],
   "source": [
    "numPasscode = (input(\"Enter numerical passcode\"))\n",
    "Sum = 0\n",
    "for tempVar in numPasscode:\n",
    "    Sum = Sum+int(tempVar)\n",
    "print(Sum)\n",
    "if Sum == 18:\n",
    "    print(\"Passcode is match\")\n",
    "else:\n",
    "    print(\"passcode is not match\")\n",
    "\n",
    "    "
   ]
  },
  {
   "cell_type": "markdown",
   "id": "d5023442-0fa5-44e0-9ec4-1c3e927205bf",
   "metadata": {},
   "source": [
    "inpnum = input(\"Enter numerical value\")\n",
    "outnum = inpnum[::-1]\n",
    "print(inpnum)\n",
    "print(outnum)"
   ]
  },
  {
   "cell_type": "code",
   "execution_count": 77,
   "id": "f7ffd39d-7875-455f-a3f3-bb73b51a6284",
   "metadata": {},
   "outputs": [
    {
     "name": "stdin",
     "output_type": "stream",
     "text": [
      "Enter numerical value 6\n"
     ]
    },
    {
     "name": "stdout",
     "output_type": "stream",
     "text": [
      "6 is not a prime number\n"
     ]
    }
   ],
   "source": [
    "\n",
    "def isPrime(inpnum):    \n",
    "    if inpnum < 2:\n",
    "        return False    \n",
    "    for tempvar in range(2, int(inpnum**0.5)+1):\n",
    "        if inpnum%tempvar==0:\n",
    "            return False\n",
    "    return True\n",
    "\n",
    "inp_num = int(input(\"Enter numerical value\"))\n",
    "if (isPrime(inp_num) == False):\n",
    "    print(f\"{inp_num} is not a prime number\")\n",
    "else:\n",
    "    print(f\"{inp_num} is a prime number\")"
   ]
  },
  {
   "cell_type": "code",
   "execution_count": 85,
   "id": "9c72d583-45f1-4b7c-896b-fc861d85e88d",
   "metadata": {},
   "outputs": [
    {
     "name": "stdin",
     "output_type": "stream",
     "text": [
      "enter first string listen\n",
      "enter second string silentt\n"
     ]
    },
    {
     "name": "stdout",
     "output_type": "stream",
     "text": [
      "string are not matching\n"
     ]
    }
   ],
   "source": [
    "str1 = input(\"enter first string\")\n",
    "str2 = input(\"enter second string\")\n",
    "\n",
    "list1 = (sorted(str1))\n",
    "list2 = (sorted(str2))\n",
    "if list1 == list2:\n",
    "    print(\"strings are matching\")\n",
    "else:\n",
    "    print(\"string are not matching\")"
   ]
  },
  {
   "cell_type": "code",
   "execution_count": 93,
   "id": "6cacc2a3-de9a-48d9-b2ec-e333d4b7fcdf",
   "metadata": {},
   "outputs": [
    {
     "name": "stdin",
     "output_type": "stream",
     "text": [
      "Enter input string this is to test the lengh\n"
     ]
    },
    {
     "name": "stdout",
     "output_type": "stream",
     "text": [
      "lengh\n"
     ]
    }
   ],
   "source": [
    "str1 = input(\"Enter input string\")\n",
    "list1 = str1.split(\" \")\n",
    "str2 = max(list1, key=len)\n",
    "\n",
    "print(str2)"
   ]
  },
  {
   "cell_type": "code",
   "execution_count": 99,
   "id": "e9f9b10d-2eec-496b-a710-ff6a30fc94c9",
   "metadata": {},
   "outputs": [
    {
     "name": "stdin",
     "output_type": "stream",
     "text": [
      "Enter the string validate\n"
     ]
    },
    {
     "name": "stdout",
     "output_type": "stream",
     "text": [
      "validate\n",
      "['v', 'a', 'l', 'i', 'd', 'a', 't', 'e']\n",
      "['e', 'a', 'l', 'i', 'd', 'a', 't', 'v']\n",
      "ealidatv\n"
     ]
    }
   ],
   "source": [
    "strinp = input(\"Enter the string\")\n",
    "print(strinp)\n",
    "list1 = list(strinp)\n",
    "print(list1)\n",
    "temp = list1[0]\n",
    "list1[0] = list1[-1]\n",
    "list1[-1] = temp\n",
    "print(list1)\n",
    "print(\"\".join(list1))\n"
   ]
  },
  {
   "cell_type": "code",
   "execution_count": 109,
   "id": "e1b1a24d-c502-4a19-8ed5-d664bf3fe417",
   "metadata": {},
   "outputs": [
    {
     "name": "stdin",
     "output_type": "stream",
     "text": [
      "Enter input value 0\n"
     ]
    },
    {
     "name": "stdout",
     "output_type": "stream",
     "text": [
      "1\n"
     ]
    }
   ],
   "source": [
    "def factorial(n):\n",
    "    while(n>1):\n",
    "        return n*factorial(n-1)\n",
    "    return 1\n",
    "\n",
    "strInp = int(input(\"Enter input value\"))\n",
    "print(factorial(strInp))"
   ]
  },
  {
   "cell_type": "code",
   "execution_count": null,
   "id": "b69aa1d9-3ebd-463b-baeb-6d6e3a1960ea",
   "metadata": {},
   "outputs": [],
   "source": []
  }
 ],
 "metadata": {
  "kernelspec": {
   "display_name": "Python 3 (ipykernel)",
   "language": "python",
   "name": "python3"
  },
  "language_info": {
   "codemirror_mode": {
    "name": "ipython",
    "version": 3
   },
   "file_extension": ".py",
   "mimetype": "text/x-python",
   "name": "python",
   "nbconvert_exporter": "python",
   "pygments_lexer": "ipython3",
   "version": "3.12.4"
  }
 },
 "nbformat": 4,
 "nbformat_minor": 5
}
