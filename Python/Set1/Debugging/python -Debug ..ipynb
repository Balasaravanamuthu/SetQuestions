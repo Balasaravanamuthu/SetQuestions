{
 "cells": [
  {
   "cell_type": "markdown",
   "id": "7a4ccbe7-6181-46c4-bd6a-efa30d96f3ef",
   "metadata": {},
   "source": [
    "#1.Find the error in the following Python code:\n",
    "\n",
    " for i in range(5)\n",
    "    print(i)\n",
    "    "
   ]
  },
  {
   "cell_type": "code",
   "execution_count": 8,
   "id": "80378258-c7dd-4682-9167-562eed922b60",
   "metadata": {},
   "outputs": [
    {
     "name": "stdout",
     "output_type": "stream",
     "text": [
      "0\n",
      "1\n",
      "2\n",
      "3\n",
      "4\n"
     ]
    }
   ],
   "source": [
    "# Intendation and Colon is missing\n",
    "\n",
    "for i in range(5):\n",
    "    print(i)"
   ]
  },
  {
   "cell_type": "markdown",
   "id": "010bdbe1-f6f1-4ea2-bbaf-32f6ff29867d",
   "metadata": {},
   "source": [
    "#2.What will be the output of this code?\n",
    "\n",
    "a = 10\n",
    "b = \"5\"\n",
    "print(a + b)\n",
    " "
   ]
  },
  {
   "cell_type": "code",
   "execution_count": 10,
   "id": "9e114ddc-0584-4499-b708-5b04729343a5",
   "metadata": {},
   "outputs": [
    {
     "name": "stdout",
     "output_type": "stream",
     "text": [
      "15\n"
     ]
    }
   ],
   "source": [
    "# Type Error\n",
    "\n",
    "a = 10\n",
    "b = \"5\"\n",
    "print(a + int(b))\n",
    " "
   ]
  },
  {
   "cell_type": "markdown",
   "id": "066b152f-65af-4d99-a14e-f00b1108cff2",
   "metadata": {},
   "source": [
    "#3.What is the issue in this Python snippet?\n",
    "\n",
    " def add_numbers(a, b)\n",
    "    return a + b\n"
   ]
  },
  {
   "cell_type": "code",
   "execution_count": 12,
   "id": "785aff21-0263-4fbf-b663-6e3ad2b05b69",
   "metadata": {},
   "outputs": [],
   "source": [
    "# Intendation and Colon is missing\n",
    "\n",
    "def add_numbers(a, b):\n",
    "    return a + b"
   ]
  },
  {
   "cell_type": "code",
   "execution_count": null,
   "id": "2f8e5efd",
   "metadata": {},
   "outputs": [],
   "source": [
    "\n",
    "#4.Identify the bug in the following Python code:\n",
    "\n",
    " numbers = [1, 2, 3, 4]\n",
    "print(numbers[4])\n"
   ]
  },
  {
   "cell_type": "code",
   "execution_count": 14,
   "id": "9ece15ae-46f4-4201-a585-55efd490aa13",
   "metadata": {},
   "outputs": [
    {
     "name": "stdout",
     "output_type": "stream",
     "text": [
      "4\n"
     ]
    }
   ],
   "source": [
    "# Indentation, Index not found\n",
    "\n",
    "numbers = [1, 2, 3, 4]\n",
    "print(numbers[3])"
   ]
  },
  {
   "cell_type": "markdown",
   "id": "584a1eac-e15a-42d5-9888-969184d871bc",
   "metadata": {},
   "source": [
    "#5.Find the error in the following Python code:\n",
    "print \"Hello, World!\""
   ]
  },
  {
   "cell_type": "code",
   "execution_count": 16,
   "id": "53cddd60-f6b4-4fd7-9cbb-052fe4074f6d",
   "metadata": {},
   "outputs": [
    {
     "name": "stdout",
     "output_type": "stream",
     "text": [
      "Hello, World!\n"
     ]
    }
   ],
   "source": [
    "# Parenthesis is missing\n",
    "\n",
    "print(\"Hello, World!\")"
   ]
  },
  {
   "cell_type": "markdown",
   "id": "cf562282-9870-4b88-9d7a-bac4a5678a34",
   "metadata": {},
   "source": [
    "#6.Find the error in the following Python code:\n",
    "x = 5 / 0\n"
   ]
  },
  {
   "cell_type": "code",
   "execution_count": 18,
   "id": "62cc618a-6878-49bc-a25a-c26ef8a287ad",
   "metadata": {},
   "outputs": [],
   "source": [
    "# Divide by 0 error\n",
    "\n",
    "x = 5 / 1"
   ]
  },
  {
   "cell_type": "markdown",
   "id": "9cd09edb-a028-4ad3-ac6a-53ab9f26fb1c",
   "metadata": {},
   "source": [
    "#7.Find the error in the following Python code:name = \"Alice\"\n",
    "age = 25\n",
    "print(\"Name: \" + name + \", Age: \" + age)\n"
   ]
  },
  {
   "cell_type": "code",
   "execution_count": 22,
   "id": "1d1306ec-c63f-4973-8476-48c82bc9b838",
   "metadata": {},
   "outputs": [
    {
     "name": "stdout",
     "output_type": "stream",
     "text": [
      "Name: Alice, Age: 25\n"
     ]
    }
   ],
   "source": [
    "#name is not defined, Type Error\n",
    "name = \"Alice\"\n",
    "age = 25\n",
    "print(\"Name: \" + name + \", Age: \" + str(age))"
   ]
  },
  {
   "cell_type": "markdown",
   "id": "f259dc8c-f7cc-4820-9294-1937738a5410",
   "metadata": {},
   "source": [
    "#8.Find the error\n",
    "for i in range(1, 10, -1):\n",
    "    print(i)\n"
   ]
  },
  {
   "cell_type": "code",
   "execution_count": 24,
   "id": "c7bca7cf-246f-4c22-a5b7-57bec2994b86",
   "metadata": {},
   "outputs": [
    {
     "name": "stdout",
     "output_type": "stream",
     "text": [
      "10\n",
      "9\n",
      "8\n",
      "7\n",
      "6\n",
      "5\n",
      "4\n",
      "3\n",
      "2\n"
     ]
    }
   ],
   "source": [
    "# Step value should be postive if Stop is greater than Start. Step value should be negative if Start is greater than Stop\n",
    "\n",
    "for i in range(10, 1, -1):\n",
    "    print(i)"
   ]
  },
  {
   "cell_type": "markdown",
   "id": "fd82439e-52e3-478f-afd8-1f3155536138",
   "metadata": {},
   "source": [
    "#9. Find the error in the following Python code:\n",
    "x = 10\n",
    "if x = 5:\n",
    "    print(\"x is 5\")\n"
   ]
  },
  {
   "cell_type": "code",
   "execution_count": 26,
   "id": "4fb86217-00c9-4add-886a-3d890ecd50f7",
   "metadata": {},
   "outputs": [],
   "source": [
    "# x = 5 is an assignment and not the validation\n",
    "x = 10\n",
    "if x == 5:\n",
    "    print(\"x is 5\")"
   ]
  },
  {
   "cell_type": "code",
   "execution_count": null,
   "id": "317eca50",
   "metadata": {},
   "outputs": [],
   "source": [
    "#10. Identify the error in the following function definition:\n",
    "\n",
    "def greet(name)\n",
    "    print(\"Hello, \" + name)\n",
    "\n"
   ]
  },
  {
   "cell_type": "code",
   "execution_count": 28,
   "id": "91da96cb-da4a-4293-98b7-46b532c3796e",
   "metadata": {},
   "outputs": [],
   "source": [
    "# colon missing in the function\n",
    "\n",
    "def greet(name):\n",
    "    print(\"Hello, \" + name)"
   ]
  },
  {
   "cell_type": "code",
   "execution_count": null,
   "id": "aa6e23b8-db0b-4ff8-9372-66c1a040edc1",
   "metadata": {},
   "outputs": [],
   "source": []
  }
 ],
 "metadata": {
  "kernelspec": {
   "display_name": "Python 3 (ipykernel)",
   "language": "python",
   "name": "python3"
  },
  "language_info": {
   "codemirror_mode": {
    "name": "ipython",
    "version": 3
   },
   "file_extension": ".py",
   "mimetype": "text/x-python",
   "name": "python",
   "nbconvert_exporter": "python",
   "pygments_lexer": "ipython3",
   "version": "3.12.4"
  }
 },
 "nbformat": 4,
 "nbformat_minor": 5
}
