{
 "cells": [
  {
   "cell_type": "markdown",
   "id": "2fa08c8a-d226-4688-ada8-09406fdacdbb",
   "metadata": {},
   "source": [
    "1.Write a Python program that prints numbers from 1 to 5.\n",
    "Expected Output:\n",
    "1 2 3 4 5\n"
   ]
  },
  {
   "cell_type": "code",
   "execution_count": 9,
   "id": "b02040c9-58f2-4844-8bb8-b5daa83d7bb8",
   "metadata": {},
   "outputs": [
    {
     "name": "stdout",
     "output_type": "stream",
     "text": [
      "1 2 3 4 5 "
     ]
    }
   ],
   "source": [
    "for tempVar in range(1,6):\n",
    "    print(tempVar, end =\" \")"
   ]
  },
  {
   "cell_type": "markdown",
   "id": "ed10032c-e42e-47af-a8a1-b157f5f29090",
   "metadata": {},
   "source": [
    "2.Write a Python program to print the first 5 even numbers. Expected Output:\n",
    "2 4 6 8 10\n",
    "\n"
   ]
  },
  {
   "cell_type": "code",
   "execution_count": 13,
   "id": "4f079999-c915-497c-8b05-680b4d968fa9",
   "metadata": {},
   "outputs": [
    {
     "name": "stdout",
     "output_type": "stream",
     "text": [
      "2 4 6 8 10 "
     ]
    }
   ],
   "source": [
    "for tempVar in range(2,12,2):\n",
    "    print(tempVar, end=\" \")"
   ]
  },
  {
   "cell_type": "markdown",
   "id": "346a34da-d433-41e9-8dd6-acee21f7c273",
   "metadata": {},
   "source": [
    "3.Write a Python program to print the sum of numbers from 1 to 10. \n",
    "Expected Output:55\n",
    "\n"
   ]
  },
  {
   "cell_type": "code",
   "execution_count": 19,
   "id": "7769bfb9-89cc-4149-aae7-7fc8d0639ced",
   "metadata": {},
   "outputs": [
    {
     "name": "stdout",
     "output_type": "stream",
     "text": [
      "55\n"
     ]
    }
   ],
   "source": [
    "Sum = 0\n",
    "for tempVar in range(1,11):\n",
    "    Sum = Sum+tempVar\n",
    "\n",
    "print(Sum)"
   ]
  },
  {
   "cell_type": "markdown",
   "id": "2ed53ef2-4672-4abb-8f09-1526944ec237",
   "metadata": {},
   "source": [
    "4.Write a Python function to find the factorial of 5. Expected Output:\n",
    "120\n",
    "\n"
   ]
  },
  {
   "cell_type": "code",
   "execution_count": 27,
   "id": "072eff7a-a10f-4b66-a8b3-785e97c95898",
   "metadata": {},
   "outputs": [
    {
     "name": "stdout",
     "output_type": "stream",
     "text": [
      "120\n"
     ]
    }
   ],
   "source": [
    "Fact = 1\n",
    "for tempVar in range(5,0,-1):\n",
    "    Fact = Fact * tempVar\n",
    "print(Fact)"
   ]
  },
  {
   "cell_type": "markdown",
   "id": "e341717a-42cb-436d-b66b-9b626af54403",
   "metadata": {},
   "source": [
    "5.Write a Python program to check if a number is prime. Expected Output (for input 7):\n",
    "7 is a prime number\n",
    "\n"
   ]
  },
  {
   "cell_type": "code",
   "execution_count": 81,
   "id": "72dc7af7-8dde-41b9-b1e5-0e31d90e9b55",
   "metadata": {},
   "outputs": [],
   "source": [
    "def isPrime(inpNumber):\n",
    "    if (inpNumber <=1 ): \n",
    "        return False\n",
    "    for tempVar in range(2,int(inpNumber**0.5)+1):\n",
    "        if (inpNumber%tempVar==0):\n",
    "            return False\n",
    "    return True"
   ]
  },
  {
   "cell_type": "code",
   "execution_count": 95,
   "id": "690daa43-4efa-4557-8043-39a349d8044a",
   "metadata": {},
   "outputs": [
    {
     "name": "stdin",
     "output_type": "stream",
     "text": [
      "Enter Input Number: 7\n"
     ]
    },
    {
     "name": "stdout",
     "output_type": "stream",
     "text": [
      "7 is a prime number\n"
     ]
    }
   ],
   "source": [
    "inpNumber = int(input(\"Enter Input Number:\"))\n",
    "if isPrime(inpNumber):\n",
    "    print(f\"{inpNumber} is a prime number\")\n",
    "else:\n",
    "    print(f\"{inpNumber} is not a prime number\")\n",
    "    "
   ]
  },
  {
   "cell_type": "code",
   "execution_count": null,
   "id": "2d39d23b-88e2-4d14-9587-35e6820d5056",
   "metadata": {},
   "outputs": [],
   "source": []
  }
 ],
 "metadata": {
  "kernelspec": {
   "display_name": "Python 3 (ipykernel)",
   "language": "python",
   "name": "python3"
  },
  "language_info": {
   "codemirror_mode": {
    "name": "ipython",
    "version": 3
   },
   "file_extension": ".py",
   "mimetype": "text/x-python",
   "name": "python",
   "nbconvert_exporter": "python",
   "pygments_lexer": "ipython3",
   "version": "3.12.4"
  }
 },
 "nbformat": 4,
 "nbformat_minor": 5
}
